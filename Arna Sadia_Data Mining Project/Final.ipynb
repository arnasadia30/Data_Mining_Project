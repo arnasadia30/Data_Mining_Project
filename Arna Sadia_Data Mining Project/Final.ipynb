{
 "cells": [
  {
   "cell_type": "markdown",
   "id": "6d74f2b7",
   "metadata": {},
   "source": [
    "# # Import numpy, pandas and matplotlib"
   ]
  },
  {
   "cell_type": "code",
   "execution_count": 1,
   "id": "e4492970",
   "metadata": {},
   "outputs": [],
   "source": [
    "import numpy as np\n",
    "import pandas as pd\n",
    "import matplotlib.pyplot as plt\n",
    "from sklearn.ensemble import RandomForestClassifier\n",
    "from sklearn.neighbors import KNeighborsClassifier\n",
    "from sklearn.naive_bayes import GaussianNB\n",
    "from sklearn.linear_model import LogisticRegression\n",
    "from sklearn.metrics import accuracy_score, precision_score, recall_score, f1_score, confusion_matrix\n",
    "from scipy import stats\n",
    "from sklearn.preprocessing import OneHotEncoder"
   ]
  },
  {
   "cell_type": "markdown",
   "id": "7efb6fdb",
   "metadata": {},
   "source": [
    "# Read the dataset"
   ]
  },
  {
   "cell_type": "code",
   "execution_count": 2,
   "id": "eabf571f",
   "metadata": {},
   "outputs": [],
   "source": [
    "census_income_train = pd.read_csv('C:/Users/Hitesh Chordiya/Desktop/DESKTOP FILES/Fordham 2nd semester/Data Mining/Project/census-income.data.csv', names=['age', 'workclass', 'wgt', 'education', 'education_id', \\\n",
    "                                      'marital_status', 'occupation', 'relationship', 'race', 'sex', \\\n",
    "                                      'capital_gain', 'capital_loss', 'hours_per_week', 'native_country', 'income'])"
   ]
  },
  {
   "cell_type": "code",
   "execution_count": 3,
   "id": "0bea9b75",
   "metadata": {
    "scrolled": true
   },
   "outputs": [
    {
     "data": {
      "text/html": [
       "<div>\n",
       "<style scoped>\n",
       "    .dataframe tbody tr th:only-of-type {\n",
       "        vertical-align: middle;\n",
       "    }\n",
       "\n",
       "    .dataframe tbody tr th {\n",
       "        vertical-align: top;\n",
       "    }\n",
       "\n",
       "    .dataframe thead th {\n",
       "        text-align: right;\n",
       "    }\n",
       "</style>\n",
       "<table border=\"1\" class=\"dataframe\">\n",
       "  <thead>\n",
       "    <tr style=\"text-align: right;\">\n",
       "      <th></th>\n",
       "      <th>age</th>\n",
       "      <th>workclass</th>\n",
       "      <th>wgt</th>\n",
       "      <th>education</th>\n",
       "      <th>education_id</th>\n",
       "      <th>marital_status</th>\n",
       "      <th>occupation</th>\n",
       "      <th>relationship</th>\n",
       "      <th>race</th>\n",
       "      <th>sex</th>\n",
       "      <th>capital_gain</th>\n",
       "      <th>capital_loss</th>\n",
       "      <th>hours_per_week</th>\n",
       "      <th>native_country</th>\n",
       "      <th>income</th>\n",
       "    </tr>\n",
       "  </thead>\n",
       "  <tbody>\n",
       "    <tr>\n",
       "      <th>0</th>\n",
       "      <td>39</td>\n",
       "      <td>State-gov</td>\n",
       "      <td>77516</td>\n",
       "      <td>Bachelors</td>\n",
       "      <td>13</td>\n",
       "      <td>Never-married</td>\n",
       "      <td>Adm-clerical</td>\n",
       "      <td>Not-in-family</td>\n",
       "      <td>White</td>\n",
       "      <td>Male</td>\n",
       "      <td>2174</td>\n",
       "      <td>0</td>\n",
       "      <td>40</td>\n",
       "      <td>United-States</td>\n",
       "      <td>&lt;=50K</td>\n",
       "    </tr>\n",
       "    <tr>\n",
       "      <th>1</th>\n",
       "      <td>50</td>\n",
       "      <td>Self-emp-not-inc</td>\n",
       "      <td>83311</td>\n",
       "      <td>Bachelors</td>\n",
       "      <td>13</td>\n",
       "      <td>Married-civ-spouse</td>\n",
       "      <td>Exec-managerial</td>\n",
       "      <td>Husband</td>\n",
       "      <td>White</td>\n",
       "      <td>Male</td>\n",
       "      <td>0</td>\n",
       "      <td>0</td>\n",
       "      <td>13</td>\n",
       "      <td>United-States</td>\n",
       "      <td>&lt;=50K</td>\n",
       "    </tr>\n",
       "    <tr>\n",
       "      <th>2</th>\n",
       "      <td>38</td>\n",
       "      <td>Private</td>\n",
       "      <td>215646</td>\n",
       "      <td>HS-grad</td>\n",
       "      <td>9</td>\n",
       "      <td>Divorced</td>\n",
       "      <td>Handlers-cleaners</td>\n",
       "      <td>Not-in-family</td>\n",
       "      <td>White</td>\n",
       "      <td>Male</td>\n",
       "      <td>0</td>\n",
       "      <td>0</td>\n",
       "      <td>40</td>\n",
       "      <td>United-States</td>\n",
       "      <td>&lt;=50K</td>\n",
       "    </tr>\n",
       "    <tr>\n",
       "      <th>3</th>\n",
       "      <td>53</td>\n",
       "      <td>Private</td>\n",
       "      <td>234721</td>\n",
       "      <td>11th</td>\n",
       "      <td>7</td>\n",
       "      <td>Married-civ-spouse</td>\n",
       "      <td>Handlers-cleaners</td>\n",
       "      <td>Husband</td>\n",
       "      <td>Black</td>\n",
       "      <td>Male</td>\n",
       "      <td>0</td>\n",
       "      <td>0</td>\n",
       "      <td>40</td>\n",
       "      <td>United-States</td>\n",
       "      <td>&lt;=50K</td>\n",
       "    </tr>\n",
       "    <tr>\n",
       "      <th>4</th>\n",
       "      <td>28</td>\n",
       "      <td>Private</td>\n",
       "      <td>338409</td>\n",
       "      <td>Bachelors</td>\n",
       "      <td>13</td>\n",
       "      <td>Married-civ-spouse</td>\n",
       "      <td>Prof-specialty</td>\n",
       "      <td>Wife</td>\n",
       "      <td>Black</td>\n",
       "      <td>Female</td>\n",
       "      <td>0</td>\n",
       "      <td>0</td>\n",
       "      <td>40</td>\n",
       "      <td>Cuba</td>\n",
       "      <td>&lt;=50K</td>\n",
       "    </tr>\n",
       "  </tbody>\n",
       "</table>\n",
       "</div>"
      ],
      "text/plain": [
       "   age          workclass     wgt   education  education_id  \\\n",
       "0   39          State-gov   77516   Bachelors            13   \n",
       "1   50   Self-emp-not-inc   83311   Bachelors            13   \n",
       "2   38            Private  215646     HS-grad             9   \n",
       "3   53            Private  234721        11th             7   \n",
       "4   28            Private  338409   Bachelors            13   \n",
       "\n",
       "        marital_status          occupation    relationship    race      sex  \\\n",
       "0        Never-married        Adm-clerical   Not-in-family   White     Male   \n",
       "1   Married-civ-spouse     Exec-managerial         Husband   White     Male   \n",
       "2             Divorced   Handlers-cleaners   Not-in-family   White     Male   \n",
       "3   Married-civ-spouse   Handlers-cleaners         Husband   Black     Male   \n",
       "4   Married-civ-spouse      Prof-specialty            Wife   Black   Female   \n",
       "\n",
       "   capital_gain  capital_loss  hours_per_week  native_country  income  \n",
       "0          2174             0              40   United-States   <=50K  \n",
       "1             0             0              13   United-States   <=50K  \n",
       "2             0             0              40   United-States   <=50K  \n",
       "3             0             0              40   United-States   <=50K  \n",
       "4             0             0              40            Cuba   <=50K  "
      ]
     },
     "execution_count": 3,
     "metadata": {},
     "output_type": "execute_result"
    }
   ],
   "source": [
    "census_income_train.head()"
   ]
  },
  {
   "cell_type": "code",
   "execution_count": 4,
   "id": "076521e5",
   "metadata": {},
   "outputs": [],
   "source": [
    "census_income_test = pd.read_csv('C:/Users/Hitesh Chordiya/Desktop/DESKTOP FILES/Fordham 2nd semester/Data Mining/Project/census-income.test.csv', names=['age', 'workclass', 'wgt', 'education', 'education_id', \\\n",
    "                                      'marital_status', 'occupation', 'relationship', 'race', 'sex', \\\n",
    "                                      'capital_gain', 'capital_loss', 'hours_per_week', 'native_country', 'income'])"
   ]
  },
  {
   "cell_type": "code",
   "execution_count": 5,
   "id": "e8a4caae",
   "metadata": {},
   "outputs": [
    {
     "data": {
      "text/html": [
       "<div>\n",
       "<style scoped>\n",
       "    .dataframe tbody tr th:only-of-type {\n",
       "        vertical-align: middle;\n",
       "    }\n",
       "\n",
       "    .dataframe tbody tr th {\n",
       "        vertical-align: top;\n",
       "    }\n",
       "\n",
       "    .dataframe thead th {\n",
       "        text-align: right;\n",
       "    }\n",
       "</style>\n",
       "<table border=\"1\" class=\"dataframe\">\n",
       "  <thead>\n",
       "    <tr style=\"text-align: right;\">\n",
       "      <th></th>\n",
       "      <th>age</th>\n",
       "      <th>workclass</th>\n",
       "      <th>wgt</th>\n",
       "      <th>education</th>\n",
       "      <th>education_id</th>\n",
       "      <th>marital_status</th>\n",
       "      <th>occupation</th>\n",
       "      <th>relationship</th>\n",
       "      <th>race</th>\n",
       "      <th>sex</th>\n",
       "      <th>capital_gain</th>\n",
       "      <th>capital_loss</th>\n",
       "      <th>hours_per_week</th>\n",
       "      <th>native_country</th>\n",
       "      <th>income</th>\n",
       "    </tr>\n",
       "  </thead>\n",
       "  <tbody>\n",
       "    <tr>\n",
       "      <th>0</th>\n",
       "      <td>25</td>\n",
       "      <td>Private</td>\n",
       "      <td>226802</td>\n",
       "      <td>11th</td>\n",
       "      <td>7</td>\n",
       "      <td>Never-married</td>\n",
       "      <td>Machine-op-inspct</td>\n",
       "      <td>Own-child</td>\n",
       "      <td>Black</td>\n",
       "      <td>Male</td>\n",
       "      <td>0</td>\n",
       "      <td>0</td>\n",
       "      <td>40</td>\n",
       "      <td>United-States</td>\n",
       "      <td>&lt;=50K.</td>\n",
       "    </tr>\n",
       "    <tr>\n",
       "      <th>1</th>\n",
       "      <td>38</td>\n",
       "      <td>Private</td>\n",
       "      <td>89814</td>\n",
       "      <td>HS-grad</td>\n",
       "      <td>9</td>\n",
       "      <td>Married-civ-spouse</td>\n",
       "      <td>Farming-fishing</td>\n",
       "      <td>Husband</td>\n",
       "      <td>White</td>\n",
       "      <td>Male</td>\n",
       "      <td>0</td>\n",
       "      <td>0</td>\n",
       "      <td>50</td>\n",
       "      <td>United-States</td>\n",
       "      <td>&lt;=50K.</td>\n",
       "    </tr>\n",
       "    <tr>\n",
       "      <th>2</th>\n",
       "      <td>28</td>\n",
       "      <td>Local-gov</td>\n",
       "      <td>336951</td>\n",
       "      <td>Assoc-acdm</td>\n",
       "      <td>12</td>\n",
       "      <td>Married-civ-spouse</td>\n",
       "      <td>Protective-serv</td>\n",
       "      <td>Husband</td>\n",
       "      <td>White</td>\n",
       "      <td>Male</td>\n",
       "      <td>0</td>\n",
       "      <td>0</td>\n",
       "      <td>40</td>\n",
       "      <td>United-States</td>\n",
       "      <td>&gt;50K.</td>\n",
       "    </tr>\n",
       "    <tr>\n",
       "      <th>3</th>\n",
       "      <td>44</td>\n",
       "      <td>Private</td>\n",
       "      <td>160323</td>\n",
       "      <td>Some-college</td>\n",
       "      <td>10</td>\n",
       "      <td>Married-civ-spouse</td>\n",
       "      <td>Machine-op-inspct</td>\n",
       "      <td>Husband</td>\n",
       "      <td>Black</td>\n",
       "      <td>Male</td>\n",
       "      <td>7688</td>\n",
       "      <td>0</td>\n",
       "      <td>40</td>\n",
       "      <td>United-States</td>\n",
       "      <td>&gt;50K.</td>\n",
       "    </tr>\n",
       "    <tr>\n",
       "      <th>4</th>\n",
       "      <td>18</td>\n",
       "      <td>?</td>\n",
       "      <td>103497</td>\n",
       "      <td>Some-college</td>\n",
       "      <td>10</td>\n",
       "      <td>Never-married</td>\n",
       "      <td>?</td>\n",
       "      <td>Own-child</td>\n",
       "      <td>White</td>\n",
       "      <td>Female</td>\n",
       "      <td>0</td>\n",
       "      <td>0</td>\n",
       "      <td>30</td>\n",
       "      <td>United-States</td>\n",
       "      <td>&lt;=50K.</td>\n",
       "    </tr>\n",
       "  </tbody>\n",
       "</table>\n",
       "</div>"
      ],
      "text/plain": [
       "   age   workclass     wgt      education  education_id       marital_status  \\\n",
       "0   25     Private  226802           11th             7        Never-married   \n",
       "1   38     Private   89814        HS-grad             9   Married-civ-spouse   \n",
       "2   28   Local-gov  336951     Assoc-acdm            12   Married-civ-spouse   \n",
       "3   44     Private  160323   Some-college            10   Married-civ-spouse   \n",
       "4   18           ?  103497   Some-college            10        Never-married   \n",
       "\n",
       "           occupation relationship    race      sex  capital_gain  \\\n",
       "0   Machine-op-inspct    Own-child   Black     Male             0   \n",
       "1     Farming-fishing      Husband   White     Male             0   \n",
       "2     Protective-serv      Husband   White     Male             0   \n",
       "3   Machine-op-inspct      Husband   Black     Male          7688   \n",
       "4                   ?    Own-child   White   Female             0   \n",
       "\n",
       "   capital_loss  hours_per_week  native_country   income  \n",
       "0             0              40   United-States   <=50K.  \n",
       "1             0              50   United-States   <=50K.  \n",
       "2             0              40   United-States    >50K.  \n",
       "3             0              40   United-States    >50K.  \n",
       "4             0              30   United-States   <=50K.  "
      ]
     },
     "execution_count": 5,
     "metadata": {},
     "output_type": "execute_result"
    }
   ],
   "source": [
    "census_income_test.head()"
   ]
  },
  {
   "cell_type": "markdown",
   "id": "f5d7ae83",
   "metadata": {},
   "source": [
    "# Data Preprocessing (Training Data)"
   ]
  },
  {
   "cell_type": "markdown",
   "id": "58f238b9",
   "metadata": {},
   "source": [
    "Handling Missing and Duplicated Data"
   ]
  },
  {
   "cell_type": "code",
   "execution_count": 6,
   "id": "48724860",
   "metadata": {},
   "outputs": [
    {
     "data": {
      "text/plain": [
       "age               0\n",
       "workclass         0\n",
       "wgt               0\n",
       "education         0\n",
       "education_id      0\n",
       "marital_status    0\n",
       "occupation        0\n",
       "relationship      0\n",
       "race              0\n",
       "sex               0\n",
       "capital_gain      0\n",
       "capital_loss      0\n",
       "hours_per_week    0\n",
       "native_country    0\n",
       "income            0\n",
       "dtype: int64"
      ]
     },
     "execution_count": 6,
     "metadata": {},
     "output_type": "execute_result"
    }
   ],
   "source": [
    "census_income_train.isna().sum()"
   ]
  },
  {
   "cell_type": "code",
   "execution_count": 7,
   "id": "98d2d245",
   "metadata": {},
   "outputs": [
    {
     "name": "stdout",
     "output_type": "stream",
     "text": [
      "Duplicates =  24\n"
     ]
    }
   ],
   "source": [
    "print('Duplicates = ', census_income_train.duplicated().sum())"
   ]
  },
  {
   "cell_type": "code",
   "execution_count": 8,
   "id": "247b1f76",
   "metadata": {},
   "outputs": [
    {
     "name": "stdout",
     "output_type": "stream",
     "text": [
      "After removing Duplicates =  0\n"
     ]
    }
   ],
   "source": [
    "census_income_train = census_income_train[~census_income_train.duplicated()]\n",
    "print('After removing Duplicates = ', census_income_train.duplicated().sum())"
   ]
  },
  {
   "cell_type": "code",
   "execution_count": 9,
   "id": "c98d8c6e",
   "metadata": {},
   "outputs": [],
   "source": [
    "census_income_train.replace(' ?','Unknown', inplace=True)\n",
    "census_income_train.replace('?','Unknown', inplace=True)"
   ]
  },
  {
   "cell_type": "code",
   "execution_count": 10,
   "id": "4947add2",
   "metadata": {},
   "outputs": [
    {
     "data": {
      "text/plain": [
       " Private             22673\n",
       " Self-emp-not-inc     2540\n",
       " Local-gov            2093\n",
       "Unknown               1836\n",
       " State-gov            1298\n",
       " Self-emp-inc         1116\n",
       " Federal-gov           960\n",
       " Without-pay            14\n",
       " Never-worked            7\n",
       "Name: workclass, dtype: int64"
      ]
     },
     "execution_count": 10,
     "metadata": {},
     "output_type": "execute_result"
    }
   ],
   "source": [
    "census_income_train.workclass.value_counts()"
   ]
  },
  {
   "cell_type": "code",
   "execution_count": 11,
   "id": "a23ce950",
   "metadata": {},
   "outputs": [
    {
     "data": {
      "text/plain": [
       " United-States                 29153\n",
       " Mexico                          639\n",
       "Unknown                          582\n",
       " Philippines                     198\n",
       " Germany                         137\n",
       " Canada                          121\n",
       " Puerto-Rico                     114\n",
       " El-Salvador                     106\n",
       " India                           100\n",
       " Cuba                             95\n",
       " England                          90\n",
       " Jamaica                          81\n",
       " South                            80\n",
       " China                            75\n",
       " Italy                            73\n",
       " Dominican-Republic               70\n",
       " Vietnam                          67\n",
       " Japan                            62\n",
       " Guatemala                        62\n",
       " Poland                           60\n",
       " Columbia                         59\n",
       " Taiwan                           51\n",
       " Haiti                            44\n",
       " Iran                             43\n",
       " Portugal                         37\n",
       " Nicaragua                        34\n",
       " Peru                             31\n",
       " France                           29\n",
       " Greece                           29\n",
       " Ecuador                          28\n",
       " Ireland                          24\n",
       " Hong                             20\n",
       " Cambodia                         19\n",
       " Trinadad&Tobago                  19\n",
       " Laos                             18\n",
       " Thailand                         18\n",
       " Yugoslavia                       16\n",
       " Outlying-US(Guam-USVI-etc)       14\n",
       " Honduras                         13\n",
       " Hungary                          13\n",
       " Scotland                         12\n",
       " Holand-Netherlands                1\n",
       "Name: native_country, dtype: int64"
      ]
     },
     "execution_count": 11,
     "metadata": {},
     "output_type": "execute_result"
    }
   ],
   "source": [
    "census_income_train.native_country.value_counts()"
   ]
  },
  {
   "cell_type": "code",
   "execution_count": 12,
   "id": "5acc19d4",
   "metadata": {},
   "outputs": [
    {
     "data": {
      "text/plain": [
       " Prof-specialty       4136\n",
       " Craft-repair         4094\n",
       " Exec-managerial      4065\n",
       " Adm-clerical         3768\n",
       " Sales                3650\n",
       " Other-service        3291\n",
       " Machine-op-inspct    2000\n",
       "Unknown               1843\n",
       " Transport-moving     1597\n",
       " Handlers-cleaners    1369\n",
       " Farming-fishing       992\n",
       " Tech-support          927\n",
       " Protective-serv       649\n",
       " Priv-house-serv       147\n",
       " Armed-Forces            9\n",
       "Name: occupation, dtype: int64"
      ]
     },
     "execution_count": 12,
     "metadata": {},
     "output_type": "execute_result"
    }
   ],
   "source": [
    "census_income_train.occupation.value_counts()"
   ]
  },
  {
   "cell_type": "markdown",
   "id": "7c6dca26",
   "metadata": {},
   "source": [
    "Converting Categorical data to Numeric Data"
   ]
  },
  {
   "cell_type": "code",
   "execution_count": 13,
   "id": "2d947709",
   "metadata": {},
   "outputs": [],
   "source": [
    "census_income_train['sex'] = census_income_train['sex'].str.strip()\n",
    "census_income_train['sex'] = census_income_train['sex'].replace({'Male':1,'Female':0})\n",
    "census_income_train['income'] = census_income_train['income'].str.strip()\n",
    "census_income_train['income'] = census_income_train['income'].replace({'>50K':1,'<=50K':0})"
   ]
  },
  {
   "cell_type": "code",
   "execution_count": 14,
   "id": "c7a3d1f8",
   "metadata": {
    "scrolled": true
   },
   "outputs": [
    {
     "data": {
      "text/html": [
       "<div>\n",
       "<style scoped>\n",
       "    .dataframe tbody tr th:only-of-type {\n",
       "        vertical-align: middle;\n",
       "    }\n",
       "\n",
       "    .dataframe tbody tr th {\n",
       "        vertical-align: top;\n",
       "    }\n",
       "\n",
       "    .dataframe thead th {\n",
       "        text-align: right;\n",
       "    }\n",
       "</style>\n",
       "<table border=\"1\" class=\"dataframe\">\n",
       "  <thead>\n",
       "    <tr style=\"text-align: right;\">\n",
       "      <th></th>\n",
       "      <th>age</th>\n",
       "      <th>workclass</th>\n",
       "      <th>wgt</th>\n",
       "      <th>education</th>\n",
       "      <th>education_id</th>\n",
       "      <th>marital_status</th>\n",
       "      <th>occupation</th>\n",
       "      <th>relationship</th>\n",
       "      <th>race</th>\n",
       "      <th>sex</th>\n",
       "      <th>capital_gain</th>\n",
       "      <th>capital_loss</th>\n",
       "      <th>hours_per_week</th>\n",
       "      <th>native_country</th>\n",
       "      <th>income</th>\n",
       "    </tr>\n",
       "  </thead>\n",
       "  <tbody>\n",
       "    <tr>\n",
       "      <th>0</th>\n",
       "      <td>39</td>\n",
       "      <td>State-gov</td>\n",
       "      <td>77516</td>\n",
       "      <td>Bachelors</td>\n",
       "      <td>13</td>\n",
       "      <td>Never-married</td>\n",
       "      <td>Adm-clerical</td>\n",
       "      <td>Not-in-family</td>\n",
       "      <td>White</td>\n",
       "      <td>1</td>\n",
       "      <td>2174</td>\n",
       "      <td>0</td>\n",
       "      <td>40</td>\n",
       "      <td>United-States</td>\n",
       "      <td>0</td>\n",
       "    </tr>\n",
       "    <tr>\n",
       "      <th>1</th>\n",
       "      <td>50</td>\n",
       "      <td>Self-emp-not-inc</td>\n",
       "      <td>83311</td>\n",
       "      <td>Bachelors</td>\n",
       "      <td>13</td>\n",
       "      <td>Married-civ-spouse</td>\n",
       "      <td>Exec-managerial</td>\n",
       "      <td>Husband</td>\n",
       "      <td>White</td>\n",
       "      <td>1</td>\n",
       "      <td>0</td>\n",
       "      <td>0</td>\n",
       "      <td>13</td>\n",
       "      <td>United-States</td>\n",
       "      <td>0</td>\n",
       "    </tr>\n",
       "    <tr>\n",
       "      <th>2</th>\n",
       "      <td>38</td>\n",
       "      <td>Private</td>\n",
       "      <td>215646</td>\n",
       "      <td>HS-grad</td>\n",
       "      <td>9</td>\n",
       "      <td>Divorced</td>\n",
       "      <td>Handlers-cleaners</td>\n",
       "      <td>Not-in-family</td>\n",
       "      <td>White</td>\n",
       "      <td>1</td>\n",
       "      <td>0</td>\n",
       "      <td>0</td>\n",
       "      <td>40</td>\n",
       "      <td>United-States</td>\n",
       "      <td>0</td>\n",
       "    </tr>\n",
       "    <tr>\n",
       "      <th>3</th>\n",
       "      <td>53</td>\n",
       "      <td>Private</td>\n",
       "      <td>234721</td>\n",
       "      <td>11th</td>\n",
       "      <td>7</td>\n",
       "      <td>Married-civ-spouse</td>\n",
       "      <td>Handlers-cleaners</td>\n",
       "      <td>Husband</td>\n",
       "      <td>Black</td>\n",
       "      <td>1</td>\n",
       "      <td>0</td>\n",
       "      <td>0</td>\n",
       "      <td>40</td>\n",
       "      <td>United-States</td>\n",
       "      <td>0</td>\n",
       "    </tr>\n",
       "    <tr>\n",
       "      <th>4</th>\n",
       "      <td>28</td>\n",
       "      <td>Private</td>\n",
       "      <td>338409</td>\n",
       "      <td>Bachelors</td>\n",
       "      <td>13</td>\n",
       "      <td>Married-civ-spouse</td>\n",
       "      <td>Prof-specialty</td>\n",
       "      <td>Wife</td>\n",
       "      <td>Black</td>\n",
       "      <td>0</td>\n",
       "      <td>0</td>\n",
       "      <td>0</td>\n",
       "      <td>40</td>\n",
       "      <td>Cuba</td>\n",
       "      <td>0</td>\n",
       "    </tr>\n",
       "  </tbody>\n",
       "</table>\n",
       "</div>"
      ],
      "text/plain": [
       "   age          workclass     wgt   education  education_id  \\\n",
       "0   39          State-gov   77516   Bachelors            13   \n",
       "1   50   Self-emp-not-inc   83311   Bachelors            13   \n",
       "2   38            Private  215646     HS-grad             9   \n",
       "3   53            Private  234721        11th             7   \n",
       "4   28            Private  338409   Bachelors            13   \n",
       "\n",
       "        marital_status          occupation    relationship    race  sex  \\\n",
       "0        Never-married        Adm-clerical   Not-in-family   White    1   \n",
       "1   Married-civ-spouse     Exec-managerial         Husband   White    1   \n",
       "2             Divorced   Handlers-cleaners   Not-in-family   White    1   \n",
       "3   Married-civ-spouse   Handlers-cleaners         Husband   Black    1   \n",
       "4   Married-civ-spouse      Prof-specialty            Wife   Black    0   \n",
       "\n",
       "   capital_gain  capital_loss  hours_per_week  native_country  income  \n",
       "0          2174             0              40   United-States       0  \n",
       "1             0             0              13   United-States       0  \n",
       "2             0             0              40   United-States       0  \n",
       "3             0             0              40   United-States       0  \n",
       "4             0             0              40            Cuba       0  "
      ]
     },
     "execution_count": 14,
     "metadata": {},
     "output_type": "execute_result"
    }
   ],
   "source": [
    "census_income_train.head()"
   ]
  },
  {
   "cell_type": "markdown",
   "id": "ea539362",
   "metadata": {},
   "source": [
    "Strip the data (Remove spaces)"
   ]
  },
  {
   "cell_type": "code",
   "execution_count": 15,
   "id": "511bbc7f",
   "metadata": {},
   "outputs": [],
   "source": [
    "columns = ['workclass', 'marital_status', 'occupation', 'relationship', 'race', 'native_country']\n",
    "for column in columns:\n",
    "    census_income_train[column] = census_income_train[column].str.strip()"
   ]
  },
  {
   "cell_type": "markdown",
   "id": "078891f7",
   "metadata": {},
   "source": [
    "Normalise the training data using the Z score normalisation (age,wgt,capital_gain,capital_loss,hours_per_week)"
   ]
  },
  {
   "cell_type": "code",
   "execution_count": 16,
   "id": "5fa52f87",
   "metadata": {},
   "outputs": [],
   "source": [
    "def z_normalize(x):\n",
    "    print(x.mean(), x.std())\n",
    "    z = (x - x.mean())/x.std()\n",
    "    return z"
   ]
  },
  {
   "cell_type": "code",
   "execution_count": 17,
   "id": "10437921",
   "metadata": {},
   "outputs": [
    {
     "name": "stdout",
     "output_type": "stream",
     "text": [
      "38.585548759873376 13.637983518469866\n"
     ]
    }
   ],
   "source": [
    "census_income_train.age = z_normalize(census_income_train.age)"
   ]
  },
  {
   "cell_type": "code",
   "execution_count": 18,
   "id": "99b1765d",
   "metadata": {},
   "outputs": [
    {
     "name": "stdout",
     "output_type": "stream",
     "text": [
      "189780.84851092604 105556.47100949337\n"
     ]
    }
   ],
   "source": [
    "census_income_train.wgt = z_normalize(census_income_train.wgt)"
   ]
  },
  {
   "cell_type": "code",
   "execution_count": 19,
   "id": "87c734d4",
   "metadata": {},
   "outputs": [
    {
     "name": "stdout",
     "output_type": "stream",
     "text": [
      "1078.4437409718166 7387.957424191213\n"
     ]
    }
   ],
   "source": [
    "census_income_train.capital_gain = z_normalize(census_income_train.capital_gain)"
   ]
  },
  {
   "cell_type": "code",
   "execution_count": 20,
   "id": "c3ee79ea",
   "metadata": {},
   "outputs": [
    {
     "name": "stdout",
     "output_type": "stream",
     "text": [
      "87.36822694163568 403.10183306309347\n"
     ]
    }
   ],
   "source": [
    "census_income_train.capital_loss = z_normalize(census_income_train.capital_loss)"
   ]
  },
  {
   "cell_type": "code",
   "execution_count": 21,
   "id": "a6d1c335",
   "metadata": {},
   "outputs": [
    {
     "name": "stdout",
     "output_type": "stream",
     "text": [
      "40.44032947106371 12.346889182125157\n"
     ]
    }
   ],
   "source": [
    "census_income_train.hours_per_week = z_normalize(census_income_train.hours_per_week)"
   ]
  },
  {
   "cell_type": "code",
   "execution_count": 22,
   "id": "88b3841c",
   "metadata": {},
   "outputs": [
    {
     "data": {
      "text/html": [
       "<div>\n",
       "<style scoped>\n",
       "    .dataframe tbody tr th:only-of-type {\n",
       "        vertical-align: middle;\n",
       "    }\n",
       "\n",
       "    .dataframe tbody tr th {\n",
       "        vertical-align: top;\n",
       "    }\n",
       "\n",
       "    .dataframe thead th {\n",
       "        text-align: right;\n",
       "    }\n",
       "</style>\n",
       "<table border=\"1\" class=\"dataframe\">\n",
       "  <thead>\n",
       "    <tr style=\"text-align: right;\">\n",
       "      <th></th>\n",
       "      <th>age</th>\n",
       "      <th>workclass</th>\n",
       "      <th>wgt</th>\n",
       "      <th>education</th>\n",
       "      <th>education_id</th>\n",
       "      <th>marital_status</th>\n",
       "      <th>occupation</th>\n",
       "      <th>relationship</th>\n",
       "      <th>race</th>\n",
       "      <th>sex</th>\n",
       "      <th>capital_gain</th>\n",
       "      <th>capital_loss</th>\n",
       "      <th>hours_per_week</th>\n",
       "      <th>native_country</th>\n",
       "      <th>income</th>\n",
       "    </tr>\n",
       "  </thead>\n",
       "  <tbody>\n",
       "    <tr>\n",
       "      <th>0</th>\n",
       "      <td>0.030389</td>\n",
       "      <td>State-gov</td>\n",
       "      <td>-1.063552</td>\n",
       "      <td>Bachelors</td>\n",
       "      <td>13</td>\n",
       "      <td>Never-married</td>\n",
       "      <td>Adm-clerical</td>\n",
       "      <td>Not-in-family</td>\n",
       "      <td>White</td>\n",
       "      <td>1</td>\n",
       "      <td>0.148289</td>\n",
       "      <td>-0.21674</td>\n",
       "      <td>-0.035663</td>\n",
       "      <td>United-States</td>\n",
       "      <td>0</td>\n",
       "    </tr>\n",
       "    <tr>\n",
       "      <th>1</th>\n",
       "      <td>0.836960</td>\n",
       "      <td>Self-emp-not-inc</td>\n",
       "      <td>-1.008653</td>\n",
       "      <td>Bachelors</td>\n",
       "      <td>13</td>\n",
       "      <td>Married-civ-spouse</td>\n",
       "      <td>Exec-managerial</td>\n",
       "      <td>Husband</td>\n",
       "      <td>White</td>\n",
       "      <td>1</td>\n",
       "      <td>-0.145973</td>\n",
       "      <td>-0.21674</td>\n",
       "      <td>-2.222449</td>\n",
       "      <td>United-States</td>\n",
       "      <td>0</td>\n",
       "    </tr>\n",
       "    <tr>\n",
       "      <th>2</th>\n",
       "      <td>-0.042935</td>\n",
       "      <td>Private</td>\n",
       "      <td>0.245036</td>\n",
       "      <td>HS-grad</td>\n",
       "      <td>9</td>\n",
       "      <td>Divorced</td>\n",
       "      <td>Handlers-cleaners</td>\n",
       "      <td>Not-in-family</td>\n",
       "      <td>White</td>\n",
       "      <td>1</td>\n",
       "      <td>-0.145973</td>\n",
       "      <td>-0.21674</td>\n",
       "      <td>-0.035663</td>\n",
       "      <td>United-States</td>\n",
       "      <td>0</td>\n",
       "    </tr>\n",
       "    <tr>\n",
       "      <th>3</th>\n",
       "      <td>1.056934</td>\n",
       "      <td>Private</td>\n",
       "      <td>0.425745</td>\n",
       "      <td>11th</td>\n",
       "      <td>7</td>\n",
       "      <td>Married-civ-spouse</td>\n",
       "      <td>Handlers-cleaners</td>\n",
       "      <td>Husband</td>\n",
       "      <td>Black</td>\n",
       "      <td>1</td>\n",
       "      <td>-0.145973</td>\n",
       "      <td>-0.21674</td>\n",
       "      <td>-0.035663</td>\n",
       "      <td>United-States</td>\n",
       "      <td>0</td>\n",
       "    </tr>\n",
       "    <tr>\n",
       "      <th>4</th>\n",
       "      <td>-0.776181</td>\n",
       "      <td>Private</td>\n",
       "      <td>1.408044</td>\n",
       "      <td>Bachelors</td>\n",
       "      <td>13</td>\n",
       "      <td>Married-civ-spouse</td>\n",
       "      <td>Prof-specialty</td>\n",
       "      <td>Wife</td>\n",
       "      <td>Black</td>\n",
       "      <td>0</td>\n",
       "      <td>-0.145973</td>\n",
       "      <td>-0.21674</td>\n",
       "      <td>-0.035663</td>\n",
       "      <td>Cuba</td>\n",
       "      <td>0</td>\n",
       "    </tr>\n",
       "  </tbody>\n",
       "</table>\n",
       "</div>"
      ],
      "text/plain": [
       "        age         workclass       wgt   education  education_id  \\\n",
       "0  0.030389         State-gov -1.063552   Bachelors            13   \n",
       "1  0.836960  Self-emp-not-inc -1.008653   Bachelors            13   \n",
       "2 -0.042935           Private  0.245036     HS-grad             9   \n",
       "3  1.056934           Private  0.425745        11th             7   \n",
       "4 -0.776181           Private  1.408044   Bachelors            13   \n",
       "\n",
       "       marital_status         occupation   relationship   race  sex  \\\n",
       "0       Never-married       Adm-clerical  Not-in-family  White    1   \n",
       "1  Married-civ-spouse    Exec-managerial        Husband  White    1   \n",
       "2            Divorced  Handlers-cleaners  Not-in-family  White    1   \n",
       "3  Married-civ-spouse  Handlers-cleaners        Husband  Black    1   \n",
       "4  Married-civ-spouse     Prof-specialty           Wife  Black    0   \n",
       "\n",
       "   capital_gain  capital_loss  hours_per_week native_country  income  \n",
       "0      0.148289      -0.21674       -0.035663  United-States       0  \n",
       "1     -0.145973      -0.21674       -2.222449  United-States       0  \n",
       "2     -0.145973      -0.21674       -0.035663  United-States       0  \n",
       "3     -0.145973      -0.21674       -0.035663  United-States       0  \n",
       "4     -0.145973      -0.21674       -0.035663           Cuba       0  "
      ]
     },
     "execution_count": 22,
     "metadata": {},
     "output_type": "execute_result"
    }
   ],
   "source": [
    "census_income_train.head()"
   ]
  },
  {
   "cell_type": "markdown",
   "id": "f9a36568",
   "metadata": {},
   "source": [
    "# Data Preprocessing (Testing Data)"
   ]
  },
  {
   "cell_type": "markdown",
   "id": "1a558a98",
   "metadata": {},
   "source": [
    "Handling Missing and Duplicated Data"
   ]
  },
  {
   "cell_type": "code",
   "execution_count": 23,
   "id": "df465d3a",
   "metadata": {},
   "outputs": [
    {
     "data": {
      "text/plain": [
       "age               0\n",
       "workclass         0\n",
       "wgt               0\n",
       "education         0\n",
       "education_id      0\n",
       "marital_status    0\n",
       "occupation        0\n",
       "relationship      0\n",
       "race              0\n",
       "sex               0\n",
       "capital_gain      0\n",
       "capital_loss      0\n",
       "hours_per_week    0\n",
       "native_country    0\n",
       "income            0\n",
       "dtype: int64"
      ]
     },
     "execution_count": 23,
     "metadata": {},
     "output_type": "execute_result"
    }
   ],
   "source": [
    "census_income_test.isna().sum()"
   ]
  },
  {
   "cell_type": "code",
   "execution_count": 24,
   "id": "d3aa6b33",
   "metadata": {},
   "outputs": [
    {
     "name": "stdout",
     "output_type": "stream",
     "text": [
      "Duplicates =  5\n"
     ]
    }
   ],
   "source": [
    "print('Duplicates = ', census_income_test.duplicated().sum())"
   ]
  },
  {
   "cell_type": "code",
   "execution_count": 25,
   "id": "7646c8f5",
   "metadata": {},
   "outputs": [
    {
     "name": "stdout",
     "output_type": "stream",
     "text": [
      "After removing Duplicates =  0\n"
     ]
    }
   ],
   "source": [
    "census_income_test = census_income_test[~census_income_test.duplicated()]\n",
    "print('After removing Duplicates = ', census_income_test.duplicated().sum())"
   ]
  },
  {
   "cell_type": "code",
   "execution_count": 26,
   "id": "c799b840",
   "metadata": {},
   "outputs": [],
   "source": [
    "census_income_test.replace(' ?','Unknown', inplace=True)\n",
    "census_income_test.replace('?','Unknown', inplace=True)"
   ]
  },
  {
   "cell_type": "code",
   "execution_count": 27,
   "id": "908d120f",
   "metadata": {},
   "outputs": [
    {
     "data": {
      "text/plain": [
       " Private             11206\n",
       " Self-emp-not-inc     1321\n",
       " Local-gov            1043\n",
       "Unknown                963\n",
       " State-gov             683\n",
       " Self-emp-inc          578\n",
       " Federal-gov           472\n",
       " Without-pay             7\n",
       " Never-worked            3\n",
       "Name: workclass, dtype: int64"
      ]
     },
     "execution_count": 27,
     "metadata": {},
     "output_type": "execute_result"
    }
   ],
   "source": [
    "census_income_test.workclass.value_counts()"
   ]
  },
  {
   "cell_type": "code",
   "execution_count": 28,
   "id": "4a9668f0",
   "metadata": {},
   "outputs": [
    {
     "data": {
      "text/plain": [
       " United-States                 14657\n",
       " Mexico                          308\n",
       "Unknown                          274\n",
       " Philippines                      97\n",
       " Puerto-Rico                      70\n",
       " Germany                          69\n",
       " Canada                           61\n",
       " India                            51\n",
       " El-Salvador                      49\n",
       " China                            47\n",
       " Cuba                             43\n",
       " England                          37\n",
       " South                            35\n",
       " Dominican-Republic               33\n",
       " Italy                            32\n",
       " Haiti                            31\n",
       " Portugal                         30\n",
       " Japan                            30\n",
       " Poland                           27\n",
       " Columbia                         26\n",
       " Jamaica                          25\n",
       " Guatemala                        24\n",
       " Greece                           20\n",
       " Vietnam                          19\n",
       " Ecuador                          17\n",
       " Iran                             16\n",
       " Peru                             15\n",
       " Nicaragua                        15\n",
       " Taiwan                           14\n",
       " Ireland                          13\n",
       " Thailand                         12\n",
       " Hong                             10\n",
       " Outlying-US(Guam-USVI-etc)        9\n",
       " France                            9\n",
       " Scotland                          9\n",
       " Cambodia                          9\n",
       " Trinadad&Tobago                   8\n",
       " Yugoslavia                        7\n",
       " Honduras                          7\n",
       " Hungary                           6\n",
       " Laos                              5\n",
       "Name: native_country, dtype: int64"
      ]
     },
     "execution_count": 28,
     "metadata": {},
     "output_type": "execute_result"
    }
   ],
   "source": [
    "census_income_test.native_country.value_counts()"
   ]
  },
  {
   "cell_type": "code",
   "execution_count": 29,
   "id": "5775b3bc",
   "metadata": {},
   "outputs": [
    {
     "data": {
      "text/plain": [
       " Prof-specialty       2031\n",
       " Exec-managerial      2019\n",
       " Craft-repair         2013\n",
       " Sales                1854\n",
       " Adm-clerical         1840\n",
       " Other-service        1628\n",
       " Machine-op-inspct    1019\n",
       "Unknown                966\n",
       " Transport-moving      758\n",
       " Handlers-cleaners     702\n",
       " Tech-support          518\n",
       " Farming-fishing       495\n",
       " Protective-serv       334\n",
       " Priv-house-serv        93\n",
       " Armed-Forces            6\n",
       "Name: occupation, dtype: int64"
      ]
     },
     "execution_count": 29,
     "metadata": {},
     "output_type": "execute_result"
    }
   ],
   "source": [
    "census_income_test.occupation.value_counts()"
   ]
  },
  {
   "cell_type": "markdown",
   "id": "7252c738",
   "metadata": {},
   "source": [
    "Converting Categorical data to Numeric Data"
   ]
  },
  {
   "cell_type": "code",
   "execution_count": 30,
   "id": "b1f1b8a2",
   "metadata": {},
   "outputs": [],
   "source": [
    "census_income_test['sex'] = census_income_test['sex'].str.strip()\n",
    "census_income_test['sex'] = census_income_test['sex'].replace({'Male':1,'Female':0})\n",
    "census_income_test['income'] = census_income_test['income'].str.strip()\n",
    "census_income_test['income'] = census_income_test['income'].replace({'>50K.':1,'<=50K.':0})"
   ]
  },
  {
   "cell_type": "code",
   "execution_count": 31,
   "id": "4cb71990",
   "metadata": {},
   "outputs": [
    {
     "data": {
      "text/html": [
       "<div>\n",
       "<style scoped>\n",
       "    .dataframe tbody tr th:only-of-type {\n",
       "        vertical-align: middle;\n",
       "    }\n",
       "\n",
       "    .dataframe tbody tr th {\n",
       "        vertical-align: top;\n",
       "    }\n",
       "\n",
       "    .dataframe thead th {\n",
       "        text-align: right;\n",
       "    }\n",
       "</style>\n",
       "<table border=\"1\" class=\"dataframe\">\n",
       "  <thead>\n",
       "    <tr style=\"text-align: right;\">\n",
       "      <th></th>\n",
       "      <th>age</th>\n",
       "      <th>workclass</th>\n",
       "      <th>wgt</th>\n",
       "      <th>education</th>\n",
       "      <th>education_id</th>\n",
       "      <th>marital_status</th>\n",
       "      <th>occupation</th>\n",
       "      <th>relationship</th>\n",
       "      <th>race</th>\n",
       "      <th>sex</th>\n",
       "      <th>capital_gain</th>\n",
       "      <th>capital_loss</th>\n",
       "      <th>hours_per_week</th>\n",
       "      <th>native_country</th>\n",
       "      <th>income</th>\n",
       "    </tr>\n",
       "  </thead>\n",
       "  <tbody>\n",
       "    <tr>\n",
       "      <th>0</th>\n",
       "      <td>25</td>\n",
       "      <td>Private</td>\n",
       "      <td>226802</td>\n",
       "      <td>11th</td>\n",
       "      <td>7</td>\n",
       "      <td>Never-married</td>\n",
       "      <td>Machine-op-inspct</td>\n",
       "      <td>Own-child</td>\n",
       "      <td>Black</td>\n",
       "      <td>1</td>\n",
       "      <td>0</td>\n",
       "      <td>0</td>\n",
       "      <td>40</td>\n",
       "      <td>United-States</td>\n",
       "      <td>0</td>\n",
       "    </tr>\n",
       "    <tr>\n",
       "      <th>1</th>\n",
       "      <td>38</td>\n",
       "      <td>Private</td>\n",
       "      <td>89814</td>\n",
       "      <td>HS-grad</td>\n",
       "      <td>9</td>\n",
       "      <td>Married-civ-spouse</td>\n",
       "      <td>Farming-fishing</td>\n",
       "      <td>Husband</td>\n",
       "      <td>White</td>\n",
       "      <td>1</td>\n",
       "      <td>0</td>\n",
       "      <td>0</td>\n",
       "      <td>50</td>\n",
       "      <td>United-States</td>\n",
       "      <td>0</td>\n",
       "    </tr>\n",
       "    <tr>\n",
       "      <th>2</th>\n",
       "      <td>28</td>\n",
       "      <td>Local-gov</td>\n",
       "      <td>336951</td>\n",
       "      <td>Assoc-acdm</td>\n",
       "      <td>12</td>\n",
       "      <td>Married-civ-spouse</td>\n",
       "      <td>Protective-serv</td>\n",
       "      <td>Husband</td>\n",
       "      <td>White</td>\n",
       "      <td>1</td>\n",
       "      <td>0</td>\n",
       "      <td>0</td>\n",
       "      <td>40</td>\n",
       "      <td>United-States</td>\n",
       "      <td>1</td>\n",
       "    </tr>\n",
       "    <tr>\n",
       "      <th>3</th>\n",
       "      <td>44</td>\n",
       "      <td>Private</td>\n",
       "      <td>160323</td>\n",
       "      <td>Some-college</td>\n",
       "      <td>10</td>\n",
       "      <td>Married-civ-spouse</td>\n",
       "      <td>Machine-op-inspct</td>\n",
       "      <td>Husband</td>\n",
       "      <td>Black</td>\n",
       "      <td>1</td>\n",
       "      <td>7688</td>\n",
       "      <td>0</td>\n",
       "      <td>40</td>\n",
       "      <td>United-States</td>\n",
       "      <td>1</td>\n",
       "    </tr>\n",
       "    <tr>\n",
       "      <th>4</th>\n",
       "      <td>18</td>\n",
       "      <td>Unknown</td>\n",
       "      <td>103497</td>\n",
       "      <td>Some-college</td>\n",
       "      <td>10</td>\n",
       "      <td>Never-married</td>\n",
       "      <td>Unknown</td>\n",
       "      <td>Own-child</td>\n",
       "      <td>White</td>\n",
       "      <td>0</td>\n",
       "      <td>0</td>\n",
       "      <td>0</td>\n",
       "      <td>30</td>\n",
       "      <td>United-States</td>\n",
       "      <td>0</td>\n",
       "    </tr>\n",
       "  </tbody>\n",
       "</table>\n",
       "</div>"
      ],
      "text/plain": [
       "   age   workclass     wgt      education  education_id       marital_status  \\\n",
       "0   25     Private  226802           11th             7        Never-married   \n",
       "1   38     Private   89814        HS-grad             9   Married-civ-spouse   \n",
       "2   28   Local-gov  336951     Assoc-acdm            12   Married-civ-spouse   \n",
       "3   44     Private  160323   Some-college            10   Married-civ-spouse   \n",
       "4   18     Unknown  103497   Some-college            10        Never-married   \n",
       "\n",
       "           occupation relationship    race  sex  capital_gain  capital_loss  \\\n",
       "0   Machine-op-inspct    Own-child   Black    1             0             0   \n",
       "1     Farming-fishing      Husband   White    1             0             0   \n",
       "2     Protective-serv      Husband   White    1             0             0   \n",
       "3   Machine-op-inspct      Husband   Black    1          7688             0   \n",
       "4             Unknown    Own-child   White    0             0             0   \n",
       "\n",
       "   hours_per_week  native_country  income  \n",
       "0              40   United-States       0  \n",
       "1              50   United-States       0  \n",
       "2              40   United-States       1  \n",
       "3              40   United-States       1  \n",
       "4              30   United-States       0  "
      ]
     },
     "execution_count": 31,
     "metadata": {},
     "output_type": "execute_result"
    }
   ],
   "source": [
    "census_income_test.head()"
   ]
  },
  {
   "cell_type": "markdown",
   "id": "1b48edb5",
   "metadata": {},
   "source": [
    "Strip the data (Remove spaces)"
   ]
  },
  {
   "cell_type": "code",
   "execution_count": 32,
   "id": "6ca9bc45",
   "metadata": {},
   "outputs": [],
   "source": [
    "columns = ['workclass', 'marital_status', 'occupation', 'relationship', 'race', 'native_country']\n",
    "for column in columns:\n",
    "    census_income_test[column] = census_income_test[column].str.strip()"
   ]
  },
  {
   "cell_type": "markdown",
   "id": "adb56a56",
   "metadata": {},
   "source": [
    "Normalise the testing data using the Z score normalisation (age,wgt,capital_gain,capital_loss,hours_per_week)"
   ]
  },
  {
   "cell_type": "code",
   "execution_count": 33,
   "id": "dd035adf",
   "metadata": {},
   "outputs": [
    {
     "name": "stdout",
     "output_type": "stream",
     "text": [
      "38.77088965347751 13.84948417194846\n"
     ]
    }
   ],
   "source": [
    "census_income_test.age = z_normalize(census_income_test.age)"
   ]
  },
  {
   "cell_type": "code",
   "execution_count": 34,
   "id": "a4c8a226",
   "metadata": {},
   "outputs": [
    {
     "name": "stdout",
     "output_type": "stream",
     "text": [
      "1082.2374662079135 7585.0771334449155\n"
     ]
    }
   ],
   "source": [
    "census_income_test.capital_gain = z_normalize(census_income_test.capital_gain)"
   ]
  },
  {
   "cell_type": "code",
   "execution_count": 35,
   "id": "73e0ffdc",
   "metadata": {},
   "outputs": [
    {
     "name": "stdout",
     "output_type": "stream",
     "text": [
      "87.92627181125583 403.164257120746\n"
     ]
    }
   ],
   "source": [
    "census_income_test.capital_loss = z_normalize(census_income_test.capital_loss)"
   ]
  },
  {
   "cell_type": "code",
   "execution_count": 36,
   "id": "85a38e61",
   "metadata": {},
   "outputs": [
    {
     "name": "stdout",
     "output_type": "stream",
     "text": [
      "40.39450724993856 12.478902303501402\n"
     ]
    }
   ],
   "source": [
    "census_income_test.hours_per_week = z_normalize(census_income_test.hours_per_week)"
   ]
  },
  {
   "cell_type": "code",
   "execution_count": 37,
   "id": "f07d2b62",
   "metadata": {},
   "outputs": [
    {
     "name": "stdout",
     "output_type": "stream",
     "text": [
      "189442.1219587122 105708.55455539147\n"
     ]
    }
   ],
   "source": [
    "census_income_test.wgt = z_normalize(census_income_test.wgt)"
   ]
  },
  {
   "cell_type": "code",
   "execution_count": 38,
   "id": "60f02023",
   "metadata": {},
   "outputs": [
    {
     "data": {
      "text/html": [
       "<div>\n",
       "<style scoped>\n",
       "    .dataframe tbody tr th:only-of-type {\n",
       "        vertical-align: middle;\n",
       "    }\n",
       "\n",
       "    .dataframe tbody tr th {\n",
       "        vertical-align: top;\n",
       "    }\n",
       "\n",
       "    .dataframe thead th {\n",
       "        text-align: right;\n",
       "    }\n",
       "</style>\n",
       "<table border=\"1\" class=\"dataframe\">\n",
       "  <thead>\n",
       "    <tr style=\"text-align: right;\">\n",
       "      <th></th>\n",
       "      <th>age</th>\n",
       "      <th>workclass</th>\n",
       "      <th>wgt</th>\n",
       "      <th>education</th>\n",
       "      <th>education_id</th>\n",
       "      <th>marital_status</th>\n",
       "      <th>occupation</th>\n",
       "      <th>relationship</th>\n",
       "      <th>race</th>\n",
       "      <th>sex</th>\n",
       "      <th>capital_gain</th>\n",
       "      <th>capital_loss</th>\n",
       "      <th>hours_per_week</th>\n",
       "      <th>native_country</th>\n",
       "      <th>income</th>\n",
       "    </tr>\n",
       "  </thead>\n",
       "  <tbody>\n",
       "    <tr>\n",
       "      <th>0</th>\n",
       "      <td>-0.994325</td>\n",
       "      <td>Private</td>\n",
       "      <td>0.353423</td>\n",
       "      <td>11th</td>\n",
       "      <td>7</td>\n",
       "      <td>Never-married</td>\n",
       "      <td>Machine-op-inspct</td>\n",
       "      <td>Own-child</td>\n",
       "      <td>Black</td>\n",
       "      <td>1</td>\n",
       "      <td>-0.142680</td>\n",
       "      <td>-0.21809</td>\n",
       "      <td>-0.031614</td>\n",
       "      <td>United-States</td>\n",
       "      <td>0</td>\n",
       "    </tr>\n",
       "    <tr>\n",
       "      <th>1</th>\n",
       "      <td>-0.055662</td>\n",
       "      <td>Private</td>\n",
       "      <td>-0.942479</td>\n",
       "      <td>HS-grad</td>\n",
       "      <td>9</td>\n",
       "      <td>Married-civ-spouse</td>\n",
       "      <td>Farming-fishing</td>\n",
       "      <td>Husband</td>\n",
       "      <td>White</td>\n",
       "      <td>1</td>\n",
       "      <td>-0.142680</td>\n",
       "      <td>-0.21809</td>\n",
       "      <td>0.769739</td>\n",
       "      <td>United-States</td>\n",
       "      <td>0</td>\n",
       "    </tr>\n",
       "    <tr>\n",
       "      <th>2</th>\n",
       "      <td>-0.777711</td>\n",
       "      <td>Local-gov</td>\n",
       "      <td>1.395430</td>\n",
       "      <td>Assoc-acdm</td>\n",
       "      <td>12</td>\n",
       "      <td>Married-civ-spouse</td>\n",
       "      <td>Protective-serv</td>\n",
       "      <td>Husband</td>\n",
       "      <td>White</td>\n",
       "      <td>1</td>\n",
       "      <td>-0.142680</td>\n",
       "      <td>-0.21809</td>\n",
       "      <td>-0.031614</td>\n",
       "      <td>United-States</td>\n",
       "      <td>1</td>\n",
       "    </tr>\n",
       "    <tr>\n",
       "      <th>3</th>\n",
       "      <td>0.377567</td>\n",
       "      <td>Private</td>\n",
       "      <td>-0.275466</td>\n",
       "      <td>Some-college</td>\n",
       "      <td>10</td>\n",
       "      <td>Married-civ-spouse</td>\n",
       "      <td>Machine-op-inspct</td>\n",
       "      <td>Husband</td>\n",
       "      <td>Black</td>\n",
       "      <td>1</td>\n",
       "      <td>0.870889</td>\n",
       "      <td>-0.21809</td>\n",
       "      <td>-0.031614</td>\n",
       "      <td>United-States</td>\n",
       "      <td>1</td>\n",
       "    </tr>\n",
       "    <tr>\n",
       "      <th>4</th>\n",
       "      <td>-1.499759</td>\n",
       "      <td>Unknown</td>\n",
       "      <td>-0.813038</td>\n",
       "      <td>Some-college</td>\n",
       "      <td>10</td>\n",
       "      <td>Never-married</td>\n",
       "      <td>Unknown</td>\n",
       "      <td>Own-child</td>\n",
       "      <td>White</td>\n",
       "      <td>0</td>\n",
       "      <td>-0.142680</td>\n",
       "      <td>-0.21809</td>\n",
       "      <td>-0.832966</td>\n",
       "      <td>United-States</td>\n",
       "      <td>0</td>\n",
       "    </tr>\n",
       "  </tbody>\n",
       "</table>\n",
       "</div>"
      ],
      "text/plain": [
       "        age  workclass       wgt      education  education_id  \\\n",
       "0 -0.994325    Private  0.353423           11th             7   \n",
       "1 -0.055662    Private -0.942479        HS-grad             9   \n",
       "2 -0.777711  Local-gov  1.395430     Assoc-acdm            12   \n",
       "3  0.377567    Private -0.275466   Some-college            10   \n",
       "4 -1.499759    Unknown -0.813038   Some-college            10   \n",
       "\n",
       "       marital_status         occupation relationship   race  sex  \\\n",
       "0       Never-married  Machine-op-inspct    Own-child  Black    1   \n",
       "1  Married-civ-spouse    Farming-fishing      Husband  White    1   \n",
       "2  Married-civ-spouse    Protective-serv      Husband  White    1   \n",
       "3  Married-civ-spouse  Machine-op-inspct      Husband  Black    1   \n",
       "4       Never-married            Unknown    Own-child  White    0   \n",
       "\n",
       "   capital_gain  capital_loss  hours_per_week native_country  income  \n",
       "0     -0.142680      -0.21809       -0.031614  United-States       0  \n",
       "1     -0.142680      -0.21809        0.769739  United-States       0  \n",
       "2     -0.142680      -0.21809       -0.031614  United-States       1  \n",
       "3      0.870889      -0.21809       -0.031614  United-States       1  \n",
       "4     -0.142680      -0.21809       -0.832966  United-States       0  "
      ]
     },
     "execution_count": 38,
     "metadata": {},
     "output_type": "execute_result"
    }
   ],
   "source": [
    "census_income_test.head()"
   ]
  },
  {
   "cell_type": "markdown",
   "id": "11ef70f4",
   "metadata": {},
   "source": [
    "Comparing the training and testing data"
   ]
  },
  {
   "cell_type": "code",
   "execution_count": 39,
   "id": "b3961d99",
   "metadata": {},
   "outputs": [
    {
     "data": {
      "text/plain": [
       "True"
      ]
     },
     "execution_count": 39,
     "metadata": {},
     "output_type": "execute_result"
    }
   ],
   "source": [
    "len(census_income_train.columns) == len(census_income_test.columns)"
   ]
  },
  {
   "cell_type": "code",
   "execution_count": 40,
   "id": "35f6bb85",
   "metadata": {},
   "outputs": [
    {
     "name": "stdout",
     "output_type": "stream",
     "text": [
      "32537 16276\n"
     ]
    }
   ],
   "source": [
    "print(len(census_income_train), len(census_income_test))"
   ]
  },
  {
   "cell_type": "markdown",
   "id": "d71636f3",
   "metadata": {},
   "source": [
    "# Splitting the train and test data"
   ]
  },
  {
   "cell_type": "code",
   "execution_count": 41,
   "id": "803d011a",
   "metadata": {},
   "outputs": [],
   "source": [
    "X_train = census_income_train.iloc[:,:-1]\n",
    "y_train = census_income_train.iloc[:,-1]\n",
    "X_test = census_income_test.iloc[:,:-1]\n",
    "y_test = census_income_test.iloc[:,-1]"
   ]
  },
  {
   "cell_type": "markdown",
   "id": "cd2776c4",
   "metadata": {},
   "source": [
    "# One Hot Encoding"
   ]
  },
  {
   "cell_type": "markdown",
   "id": "1735ab6f",
   "metadata": {},
   "source": [
    "Encode Categorical features"
   ]
  },
  {
   "cell_type": "code",
   "execution_count": 42,
   "id": "ef6727b1",
   "metadata": {},
   "outputs": [],
   "source": [
    "categorical_cols = ['workclass', 'education', 'marital_status', 'occupation', 'relationship', 'race', 'sex', 'native_country']\n",
    "encoder = OneHotEncoder(sparse_output=False)\n",
    "X_train_encoded = encoder.fit_transform(X_train[categorical_cols])\n",
    "X_test_encoded = encoder.transform(X_test[categorical_cols])"
   ]
  },
  {
   "cell_type": "markdown",
   "id": "bae2dda6",
   "metadata": {},
   "source": [
    "Combine Encoded Categorical features with numerical features"
   ]
  },
  {
   "cell_type": "code",
   "execution_count": 43,
   "id": "ad82c529",
   "metadata": {},
   "outputs": [],
   "source": [
    "numerical_cols = ['age', 'education_id', 'capital_gain', 'capital_loss', 'hours_per_week']\n",
    "X_train_processed = np.hstack((X_train[numerical_cols], X_train_encoded))\n",
    "X_test_processed = np.hstack((X_test[numerical_cols], X_test_encoded))"
   ]
  },
  {
   "cell_type": "markdown",
   "id": "eadbe0b3",
   "metadata": {},
   "source": [
    "# Random Forest Algorithm"
   ]
  },
  {
   "cell_type": "code",
   "execution_count": 44,
   "id": "abc9a0b4",
   "metadata": {},
   "outputs": [],
   "source": [
    "def randomforest(X_train, y_train, X_test):\n",
    "    random_forest = RandomForestClassifier(n_estimators = 80)\n",
    "    random_forest.fit(X_train, y_train)\n",
    "    y_pred = random_forest.predict(X_test)\n",
    "    return y_pred"
   ]
  },
  {
   "cell_type": "code",
   "execution_count": 45,
   "id": "2c4144eb",
   "metadata": {},
   "outputs": [],
   "source": [
    "rm_trial = randomforest(X_train_processed, y_train, X_test_processed)"
   ]
  },
  {
   "cell_type": "code",
   "execution_count": 46,
   "id": "70ef6e45",
   "metadata": {},
   "outputs": [
    {
     "name": "stdout",
     "output_type": "stream",
     "text": [
      "tn 11414\n",
      "fp 1552\n",
      "fn 1016\n",
      "tp 2294\n"
     ]
    }
   ],
   "source": [
    "for i in range(4):\n",
    "    print(['tn', 'fp', 'fn', 'tp'][i],confusion_matrix(rm_trial, y_test).ravel()[i])"
   ]
  },
  {
   "cell_type": "code",
   "execution_count": 47,
   "id": "aef78248",
   "metadata": {},
   "outputs": [
    {
     "name": "stdout",
     "output_type": "stream",
     "text": [
      "Random Forest Algorithm\n",
      "Accuracy =  84.22216760874907 %\n",
      "Precision Score =  59.64638585543421 %\n",
      "Recall Score =  69.30513595166164 %\n",
      "F1 Score =  64.1140301844606 %\n"
     ]
    }
   ],
   "source": [
    "print(\"Random Forest Algorithm\")\n",
    "print(\"Accuracy = \",accuracy_score(rm_trial, y_test)*100,\"%\")\n",
    "print(\"Precision Score = \",precision_score(rm_trial, y_test)*100,\"%\")\n",
    "print(\"Recall Score = \",recall_score(rm_trial, y_test)*100,\"%\")\n",
    "print(\"F1 Score = \",f1_score(rm_trial, y_test)*100,\"%\")"
   ]
  },
  {
   "cell_type": "markdown",
   "id": "9ef307c4",
   "metadata": {},
   "source": [
    "# K Nearest Neighbor Classifier Algorithm"
   ]
  },
  {
   "cell_type": "code",
   "execution_count": 48,
   "id": "89db9103",
   "metadata": {},
   "outputs": [],
   "source": [
    "def knn(X_train, y_train, X_test):    \n",
    "    knn = KNeighborsClassifier(n_neighbors = 80)\n",
    "    knn.fit(X_train, y_train)\n",
    "    y_pred = knn.predict(X_test)    \n",
    "    return y_pred"
   ]
  },
  {
   "cell_type": "code",
   "execution_count": 49,
   "id": "013b6294",
   "metadata": {},
   "outputs": [],
   "source": [
    "knn_trial = knn(X_train_processed, y_train, X_test_processed)"
   ]
  },
  {
   "cell_type": "code",
   "execution_count": 50,
   "id": "73e4f294",
   "metadata": {},
   "outputs": [
    {
     "name": "stdout",
     "output_type": "stream",
     "text": [
      "tn 11486\n",
      "fp 1608\n",
      "fn 944\n",
      "tp 2238\n"
     ]
    }
   ],
   "source": [
    "for i in range(4):\n",
    "    print(['tn', 'fp', 'fn', 'tp'][i],confusion_matrix(knn_trial, y_test).ravel()[i])"
   ]
  },
  {
   "cell_type": "code",
   "execution_count": 51,
   "id": "4e63a35e",
   "metadata": {},
   "outputs": [
    {
     "name": "stdout",
     "output_type": "stream",
     "text": [
      "K Nearest Neighbor Algorithm\n",
      "Accuracy =  84.32047186040796 %\n",
      "Precision Score =  58.19032761310452 %\n",
      "Recall Score =  70.33312382149592 %\n",
      "F1 Score =  63.68810472396129 %\n"
     ]
    }
   ],
   "source": [
    "print(\"K Nearest Neighbor Algorithm\")\n",
    "print(\"Accuracy = \",accuracy_score(knn_trial, y_test)*100,\"%\")\n",
    "print(\"Precision Score = \",precision_score(knn_trial, y_test)*100,\"%\")\n",
    "print(\"Recall Score = \",recall_score(knn_trial, y_test)*100,\"%\")\n",
    "print(\"F1 Score = \",f1_score(knn_trial, y_test)*100,\"%\")"
   ]
  },
  {
   "cell_type": "markdown",
   "id": "48cfbd6b",
   "metadata": {},
   "source": [
    "# Gaussian Naive Bayes Algorithm"
   ]
  },
  {
   "cell_type": "code",
   "execution_count": 52,
   "id": "36081922",
   "metadata": {},
   "outputs": [],
   "source": [
    "def naivebayes(X_train, y_train, X_test):\n",
    "    naive_bayes = GaussianNB()\n",
    "    naive_bayes.fit(X_train,y_train)\n",
    "    y_pred = naive_bayes.predict(X_test)\n",
    "    return y_pred"
   ]
  },
  {
   "cell_type": "code",
   "execution_count": 53,
   "id": "2aee487a",
   "metadata": {},
   "outputs": [],
   "source": [
    "nb_trial = naivebayes(X_train_processed, y_train, X_test_processed)"
   ]
  },
  {
   "cell_type": "code",
   "execution_count": 54,
   "id": "4e0c5e99",
   "metadata": {},
   "outputs": [
    {
     "name": "stdout",
     "output_type": "stream",
     "text": [
      "tn 5688\n",
      "fp 264\n",
      "fn 6742\n",
      "tp 3582\n"
     ]
    }
   ],
   "source": [
    "for i in range(4):\n",
    "    print(['tn', 'fp', 'fn', 'tp'][i],confusion_matrix(nb_trial, y_test).ravel()[i])"
   ]
  },
  {
   "cell_type": "code",
   "execution_count": 55,
   "id": "25665188",
   "metadata": {
    "scrolled": true
   },
   "outputs": [
    {
     "name": "stdout",
     "output_type": "stream",
     "text": [
      "Gaussian Naive Bayes Algorithm\n",
      "Accuracy =  56.955025804866054 %\n",
      "Precision Score =  93.13572542901716 %\n",
      "Recall Score =  34.695854320030996 %\n",
      "F1 Score =  50.55751587861679 %\n"
     ]
    }
   ],
   "source": [
    "print(\"Gaussian Naive Bayes Algorithm\")\n",
    "print(\"Accuracy = \",accuracy_score(nb_trial, y_test)*100,\"%\")\n",
    "print(\"Precision Score = \",precision_score(nb_trial, y_test)*100,\"%\")\n",
    "print(\"Recall Score = \",recall_score(nb_trial, y_test)*100,\"%\")\n",
    "print(\"F1 Score = \",f1_score(nb_trial, y_test)*100,\"%\")"
   ]
  },
  {
   "cell_type": "markdown",
   "id": "76a13ac0",
   "metadata": {},
   "source": [
    "# Logistic Regression Algorithm"
   ]
  },
  {
   "cell_type": "code",
   "execution_count": 56,
   "id": "9ddaaf41",
   "metadata": {},
   "outputs": [],
   "source": [
    "def logistic_regression(X_train, y_train, X_test):\n",
    "    lr = LogisticRegression(max_iter=1000)\n",
    "    lr.fit(X_train, y_train)\n",
    "    y_pred = lr.predict(X_test)   \n",
    "    return y_pred"
   ]
  },
  {
   "cell_type": "code",
   "execution_count": 58,
   "id": "bcb3aae5",
   "metadata": {},
   "outputs": [],
   "source": [
    "lr_trial = logistic_regression(X_train_processed, y_train, X_test_processed)"
   ]
  },
  {
   "cell_type": "code",
   "execution_count": 59,
   "id": "05e81660",
   "metadata": {},
   "outputs": [
    {
     "name": "stdout",
     "output_type": "stream",
     "text": [
      "tn 11581\n",
      "fp 1554\n",
      "fn 849\n",
      "tp 2292\n"
     ]
    }
   ],
   "source": [
    "for i in range(4):\n",
    "    print(['tn', 'fp', 'fn', 'tp'][i],confusion_matrix(lr_trial, y_test).ravel()[i])"
   ]
  },
  {
   "cell_type": "code",
   "execution_count": 60,
   "id": "30588b5d",
   "metadata": {
    "scrolled": true
   },
   "outputs": [
    {
     "name": "stdout",
     "output_type": "stream",
     "text": [
      "Logistic Regression Algorithm\n",
      "Accuracy =  85.23593020398133 %\n",
      "Precision Score =  59.59438377535101 %\n",
      "Recall Score =  72.97039159503342 %\n",
      "F1 Score =  65.60755689136968 %\n"
     ]
    }
   ],
   "source": [
    "print(\"Logistic Regression Algorithm\")\n",
    "print(\"Accuracy = \",accuracy_score(lr_trial, y_test)*100,\"%\")\n",
    "print(\"Precision Score = \",precision_score(lr_trial, y_test)*100,\"%\")\n",
    "print(\"Recall Score = \",recall_score(lr_trial, y_test)*100,\"%\")\n",
    "print(\"F1 Score = \",f1_score(lr_trial, y_test)*100,\"%\")"
   ]
  },
  {
   "cell_type": "markdown",
   "id": "376d07c4",
   "metadata": {},
   "source": [
    "# Ensemble Technique(Random Forest,KNN,Naive Bayes,Logistic Regression)"
   ]
  },
  {
   "cell_type": "code",
   "execution_count": 61,
   "id": "a35a1d8f",
   "metadata": {},
   "outputs": [],
   "source": [
    "def ensemble(X_train, y_train, X_test):    \n",
    "    r_y = randomforest(X_train, y_train, X_test)\n",
    "    k_y = knn(X_train, y_train, X_test)\n",
    "    n_y = naivebayes(X_train, y_train, X_test)\n",
    "    l_r = logistic_regression(X_train, y_train, X_test)\n",
    "    final_y = []\n",
    "    for i in range(len(X_test)):\n",
    "        final_y.append(stats.mode([r_y[i],k_y[i], n_y[i], l_r[i]], keepdims=True)[0][0])\n",
    "    return final_y"
   ]
  },
  {
   "cell_type": "code",
   "execution_count": 62,
   "id": "b61218ae",
   "metadata": {},
   "outputs": [],
   "source": [
    "final_run = ensemble(X_train_processed, y_train, X_test_processed)"
   ]
  },
  {
   "cell_type": "code",
   "execution_count": 63,
   "id": "ad9650a7",
   "metadata": {},
   "outputs": [
    {
     "name": "stdout",
     "output_type": "stream",
     "text": [
      "tn 11624\n",
      "fp 1547\n",
      "fn 806\n",
      "tp 2299\n"
     ]
    }
   ],
   "source": [
    "for i in range(4):\n",
    "    print(['tn', 'fp', 'fn', 'tp'][i],confusion_matrix(final_run, y_test).ravel()[i])"
   ]
  },
  {
   "cell_type": "code",
   "execution_count": 64,
   "id": "b63bc475",
   "metadata": {},
   "outputs": [
    {
     "name": "stdout",
     "output_type": "stream",
     "text": [
      "Ensemble Technique(Random Forest,KNN,Naive Bayes,Logistic Regression)\n",
      "Accuracy =  85.54313099041534 %\n",
      "Precision Score =  59.77639105564223 %\n",
      "Recall Score =  74.04186795491144 %\n",
      "F1 Score =  66.14875557473745 %\n"
     ]
    }
   ],
   "source": [
    "print(\"Ensemble Technique(Random Forest,KNN,Naive Bayes,Logistic Regression)\")\n",
    "print(\"Accuracy = \",accuracy_score(final_run, y_test)*100,\"%\")\n",
    "print(\"Precision Score = \",precision_score(final_run, y_test)*100,\"%\")\n",
    "print(\"Recall Score = \",recall_score(final_run, y_test)*100,\"%\")\n",
    "print(\"F1 Score = \",f1_score(final_run, y_test)*100,\"%\")"
   ]
  },
  {
   "cell_type": "markdown",
   "id": "5f2cdd3e",
   "metadata": {},
   "source": [
    "# Ensemble Technique (Random Forest, KNN, Naive Bayes)"
   ]
  },
  {
   "cell_type": "code",
   "execution_count": 65,
   "id": "8b785d90",
   "metadata": {},
   "outputs": [],
   "source": [
    "def ensemble_without_lr(X_train, y_train, X_test):    \n",
    "    r_y = randomforest(X_train, y_train, X_test)\n",
    "    k_y = knn(X_train, y_train, X_test)\n",
    "    n_y = naivebayes(X_train, y_train, X_test)\n",
    "    final_y = []\n",
    "    for i in range(len(X_test)):\n",
    "        final_y.append(stats.mode([r_y[i],k_y[i], n_y[i]], keepdims=True)[0][0])\n",
    "    return final_y"
   ]
  },
  {
   "cell_type": "code",
   "execution_count": 66,
   "id": "9a3d2598",
   "metadata": {},
   "outputs": [],
   "source": [
    "final_run_without_lr = ensemble_without_lr(X_train_processed, y_train, X_test_processed)"
   ]
  },
  {
   "cell_type": "code",
   "execution_count": 67,
   "id": "8d25afcb",
   "metadata": {},
   "outputs": [
    {
     "name": "stdout",
     "output_type": "stream",
     "text": [
      "Ensemble Technique (Random Forest, KNN, Naive Bayes)\n",
      "Accuracy =  84.27131973457853 %\n",
      "Precision Score =  69.57878315132605 %\n",
      "Recall Score =  65.81406787998031 %\n",
      "F1 Score =  67.64408493427705 %\n"
     ]
    }
   ],
   "source": [
    "print(\"Ensemble Technique (Random Forest, KNN, Naive Bayes)\")\n",
    "print(\"Accuracy = \",accuracy_score(final_run_without_lr, y_test)*100,\"%\")\n",
    "print(\"Precision Score = \",precision_score(final_run_without_lr, y_test)*100,\"%\")\n",
    "print(\"Recall Score = \",recall_score(final_run_without_lr, y_test)*100,\"%\")\n",
    "print(\"F1 Score = \",f1_score(final_run_without_lr, y_test)*100,\"%\")"
   ]
  },
  {
   "cell_type": "code",
   "execution_count": null,
   "id": "2675b318",
   "metadata": {},
   "outputs": [],
   "source": []
  }
 ],
 "metadata": {
  "kernelspec": {
   "display_name": "Python 3 (ipykernel)",
   "language": "python",
   "name": "python3"
  },
  "language_info": {
   "codemirror_mode": {
    "name": "ipython",
    "version": 3
   },
   "file_extension": ".py",
   "mimetype": "text/x-python",
   "name": "python",
   "nbconvert_exporter": "python",
   "pygments_lexer": "ipython3",
   "version": "3.10.9"
  }
 },
 "nbformat": 4,
 "nbformat_minor": 5
}
